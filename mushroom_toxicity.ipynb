{
 "cells": [
  {
   "cell_type": "markdown",
   "id": "397e9992",
   "metadata": {
    "heading_collapsed": true
   },
   "source": [
    "# Imports"
   ]
  },
  {
   "cell_type": "code",
   "execution_count": 1,
   "id": "d73575c9",
   "metadata": {
    "hidden": true
   },
   "outputs": [],
   "source": [
    "# Imports\n",
    "import numpy as np\n",
    "import pandas as pd\n",
    "import matplotlib.pyplot as plt"
   ]
  },
  {
   "cell_type": "markdown",
   "id": "0ca29068",
   "metadata": {
    "heading_collapsed": true
   },
   "source": [
    "# Load the data"
   ]
  },
  {
   "cell_type": "code",
   "execution_count": 2,
   "id": "ef2000ad",
   "metadata": {
    "hidden": true
   },
   "outputs": [
    {
     "data": {
      "text/html": [
       "<div>\n",
       "<style scoped>\n",
       "    .dataframe tbody tr th:only-of-type {\n",
       "        vertical-align: middle;\n",
       "    }\n",
       "\n",
       "    .dataframe tbody tr th {\n",
       "        vertical-align: top;\n",
       "    }\n",
       "\n",
       "    .dataframe thead th {\n",
       "        text-align: right;\n",
       "    }\n",
       "</style>\n",
       "<table border=\"1\" class=\"dataframe\">\n",
       "  <thead>\n",
       "    <tr style=\"text-align: right;\">\n",
       "      <th></th>\n",
       "      <th>class</th>\n",
       "      <th>cap-diameter</th>\n",
       "      <th>cap-shape</th>\n",
       "      <th>cap-surface</th>\n",
       "      <th>cap-color</th>\n",
       "      <th>does-bruise-or-bleed</th>\n",
       "      <th>gill-attachment</th>\n",
       "      <th>gill-spacing</th>\n",
       "      <th>gill-color</th>\n",
       "      <th>stem-height</th>\n",
       "      <th>...</th>\n",
       "      <th>stem-root</th>\n",
       "      <th>stem-surface</th>\n",
       "      <th>stem-color</th>\n",
       "      <th>veil-type</th>\n",
       "      <th>veil-color</th>\n",
       "      <th>has-ring</th>\n",
       "      <th>ring-type</th>\n",
       "      <th>spore-print-color</th>\n",
       "      <th>habitat</th>\n",
       "      <th>season</th>\n",
       "    </tr>\n",
       "  </thead>\n",
       "  <tbody>\n",
       "    <tr>\n",
       "      <th>0</th>\n",
       "      <td>p</td>\n",
       "      <td>15.26</td>\n",
       "      <td>x</td>\n",
       "      <td>g</td>\n",
       "      <td>o</td>\n",
       "      <td>f</td>\n",
       "      <td>e</td>\n",
       "      <td>NaN</td>\n",
       "      <td>w</td>\n",
       "      <td>16.95</td>\n",
       "      <td>...</td>\n",
       "      <td>s</td>\n",
       "      <td>y</td>\n",
       "      <td>w</td>\n",
       "      <td>u</td>\n",
       "      <td>w</td>\n",
       "      <td>t</td>\n",
       "      <td>g</td>\n",
       "      <td>NaN</td>\n",
       "      <td>d</td>\n",
       "      <td>w</td>\n",
       "    </tr>\n",
       "    <tr>\n",
       "      <th>1</th>\n",
       "      <td>p</td>\n",
       "      <td>16.60</td>\n",
       "      <td>x</td>\n",
       "      <td>g</td>\n",
       "      <td>o</td>\n",
       "      <td>f</td>\n",
       "      <td>e</td>\n",
       "      <td>NaN</td>\n",
       "      <td>w</td>\n",
       "      <td>17.99</td>\n",
       "      <td>...</td>\n",
       "      <td>s</td>\n",
       "      <td>y</td>\n",
       "      <td>w</td>\n",
       "      <td>u</td>\n",
       "      <td>w</td>\n",
       "      <td>t</td>\n",
       "      <td>g</td>\n",
       "      <td>NaN</td>\n",
       "      <td>d</td>\n",
       "      <td>u</td>\n",
       "    </tr>\n",
       "    <tr>\n",
       "      <th>2</th>\n",
       "      <td>p</td>\n",
       "      <td>14.07</td>\n",
       "      <td>x</td>\n",
       "      <td>g</td>\n",
       "      <td>o</td>\n",
       "      <td>f</td>\n",
       "      <td>e</td>\n",
       "      <td>NaN</td>\n",
       "      <td>w</td>\n",
       "      <td>17.80</td>\n",
       "      <td>...</td>\n",
       "      <td>s</td>\n",
       "      <td>y</td>\n",
       "      <td>w</td>\n",
       "      <td>u</td>\n",
       "      <td>w</td>\n",
       "      <td>t</td>\n",
       "      <td>g</td>\n",
       "      <td>NaN</td>\n",
       "      <td>d</td>\n",
       "      <td>w</td>\n",
       "    </tr>\n",
       "    <tr>\n",
       "      <th>3</th>\n",
       "      <td>p</td>\n",
       "      <td>14.17</td>\n",
       "      <td>f</td>\n",
       "      <td>h</td>\n",
       "      <td>e</td>\n",
       "      <td>f</td>\n",
       "      <td>e</td>\n",
       "      <td>NaN</td>\n",
       "      <td>w</td>\n",
       "      <td>15.77</td>\n",
       "      <td>...</td>\n",
       "      <td>s</td>\n",
       "      <td>y</td>\n",
       "      <td>w</td>\n",
       "      <td>u</td>\n",
       "      <td>w</td>\n",
       "      <td>t</td>\n",
       "      <td>p</td>\n",
       "      <td>NaN</td>\n",
       "      <td>d</td>\n",
       "      <td>w</td>\n",
       "    </tr>\n",
       "    <tr>\n",
       "      <th>4</th>\n",
       "      <td>p</td>\n",
       "      <td>14.64</td>\n",
       "      <td>x</td>\n",
       "      <td>h</td>\n",
       "      <td>o</td>\n",
       "      <td>f</td>\n",
       "      <td>e</td>\n",
       "      <td>NaN</td>\n",
       "      <td>w</td>\n",
       "      <td>16.53</td>\n",
       "      <td>...</td>\n",
       "      <td>s</td>\n",
       "      <td>y</td>\n",
       "      <td>w</td>\n",
       "      <td>u</td>\n",
       "      <td>w</td>\n",
       "      <td>t</td>\n",
       "      <td>p</td>\n",
       "      <td>NaN</td>\n",
       "      <td>d</td>\n",
       "      <td>w</td>\n",
       "    </tr>\n",
       "  </tbody>\n",
       "</table>\n",
       "<p>5 rows × 21 columns</p>\n",
       "</div>"
      ],
      "text/plain": [
       "  class  cap-diameter cap-shape cap-surface cap-color does-bruise-or-bleed  \\\n",
       "0     p         15.26         x           g         o                    f   \n",
       "1     p         16.60         x           g         o                    f   \n",
       "2     p         14.07         x           g         o                    f   \n",
       "3     p         14.17         f           h         e                    f   \n",
       "4     p         14.64         x           h         o                    f   \n",
       "\n",
       "  gill-attachment gill-spacing gill-color  stem-height  ...  stem-root  \\\n",
       "0               e          NaN          w        16.95  ...          s   \n",
       "1               e          NaN          w        17.99  ...          s   \n",
       "2               e          NaN          w        17.80  ...          s   \n",
       "3               e          NaN          w        15.77  ...          s   \n",
       "4               e          NaN          w        16.53  ...          s   \n",
       "\n",
       "  stem-surface stem-color veil-type veil-color has-ring ring-type  \\\n",
       "0            y          w         u          w        t         g   \n",
       "1            y          w         u          w        t         g   \n",
       "2            y          w         u          w        t         g   \n",
       "3            y          w         u          w        t         p   \n",
       "4            y          w         u          w        t         p   \n",
       "\n",
       "  spore-print-color habitat season  \n",
       "0               NaN       d      w  \n",
       "1               NaN       d      u  \n",
       "2               NaN       d      w  \n",
       "3               NaN       d      w  \n",
       "4               NaN       d      w  \n",
       "\n",
       "[5 rows x 21 columns]"
      ]
     },
     "execution_count": 2,
     "metadata": {},
     "output_type": "execute_result"
    }
   ],
   "source": [
    "# Load the data\n",
    "url = 'https://docs.google.com/spreadsheets/d/e/2PACX-1vSu_3xbzvwqg6MpBKKDB3u8YHK31h6CTK5z1MClZorpRvHz4gTYJdv3IrrdSzwBA3gHuxlY7hsShEpZ/pub?output=csv'\n",
    "df = pd.read_csv(url)\n",
    "df.head()"
   ]
  },
  {
   "cell_type": "markdown",
   "id": "441eb528",
   "metadata": {
    "heading_collapsed": true
   },
   "source": [
    "# Explore the data"
   ]
  },
  {
   "cell_type": "code",
   "execution_count": 3,
   "id": "86eaa0a5",
   "metadata": {
    "hidden": true
   },
   "outputs": [
    {
     "name": "stdout",
     "output_type": "stream",
     "text": [
      "There are  61069 data points, and 20 features.\n",
      "There are 146 duplicates in the data set.\n",
      "There are 307463 missing values in the data set.\n"
     ]
    },
    {
     "data": {
      "text/plain": [
       "class                       0\n",
       "cap-diameter                0\n",
       "cap-shape                   0\n",
       "cap-surface             14120\n",
       "cap-color                   0\n",
       "does-bruise-or-bleed        0\n",
       "gill-attachment          9884\n",
       "gill-spacing            25063\n",
       "gill-color                  0\n",
       "stem-height                 0\n",
       "stem-width                  0\n",
       "stem-root               51538\n",
       "stem-surface            38124\n",
       "stem-color                  0\n",
       "veil-type               57892\n",
       "veil-color              53656\n",
       "has-ring                    0\n",
       "ring-type                2471\n",
       "spore-print-color       54715\n",
       "habitat                     0\n",
       "season                      0\n",
       "dtype: int64"
      ]
     },
     "execution_count": 3,
     "metadata": {},
     "output_type": "execute_result"
    }
   ],
   "source": [
    "# Explore the data\n",
    "print('There are ', df.shape[0], 'data points, and', (df.shape[1] - 1), 'features.')\n",
    "print('There are', df.duplicated().sum(), 'duplicates in the data set.')\n",
    "print('There are', df.isna().sum().sum(), 'missing values in the data set.')\n",
    "\n",
    "df.isna().sum()"
   ]
  },
  {
   "cell_type": "markdown",
   "id": "1c9380a8",
   "metadata": {
    "heading_collapsed": true
   },
   "source": [
    "# Clean the data"
   ]
  },
  {
   "cell_type": "markdown",
   "id": "a8485980",
   "metadata": {
    "heading_collapsed": true,
    "hidden": true
   },
   "source": [
    "## Duplicates"
   ]
  },
  {
   "cell_type": "code",
   "execution_count": 4,
   "id": "cb9dbd15",
   "metadata": {
    "hidden": true
   },
   "outputs": [
    {
     "name": "stdout",
     "output_type": "stream",
     "text": [
      "Duplicates: 146\n",
      "Duplicates: 0\n"
     ]
    }
   ],
   "source": [
    "# Look for duplicates\n",
    "print('Duplicates:', df.duplicated().sum())\n",
    "\n",
    "# Remove the duplicates\n",
    "df.drop_duplicates(inplace = True)\n",
    "\n",
    "# Make sure the duplicate values were dropped\n",
    "print('Duplicates:', df.duplicated().sum())"
   ]
  },
  {
   "cell_type": "markdown",
   "id": "9aa15380",
   "metadata": {
    "heading_collapsed": true,
    "hidden": true
   },
   "source": [
    "## Missing values"
   ]
  },
  {
   "cell_type": "code",
   "execution_count": 5,
   "id": "e296886e",
   "metadata": {
    "hidden": true
   },
   "outputs": [
    {
     "name": "stdout",
     "output_type": "stream",
     "text": [
      "Missing Values: 307019\n",
      "class                       0\n",
      "cap-diameter                0\n",
      "cap-shape                   0\n",
      "cap-surface             14120\n",
      "cap-color                   0\n",
      "does-bruise-or-bleed        0\n",
      "gill-attachment          9855\n",
      "gill-spacing            25062\n",
      "gill-color                  0\n",
      "stem-height                 0\n",
      "stem-width                  0\n",
      "stem-root               51536\n",
      "stem-surface            38122\n",
      "stem-color                  0\n",
      "veil-type               57746\n",
      "veil-color              53510\n",
      "has-ring                    0\n",
      "ring-type                2471\n",
      "spore-print-color       54597\n",
      "habitat                     0\n",
      "season                      0\n",
      "dtype: int64\n",
      "--------------------------------------------------------------------------------\n",
      "Percentage of data missing in cap-surface: 23.18\n",
      "Percentage of data missing in gill-attachment: 16.18\n",
      "Percentage of data missing in gill-spacing: 41.14\n",
      "Percentage of data missing in stem-root: 84.59\n",
      "Percentage of data missing in stem-surface: 62.57\n",
      "Percentage of data missing in veil-type: 94.79\n",
      "Percentage of data missing in veil-color: 87.83\n",
      "Percentage of data missing in ring-type: 4.06\n",
      "Percentage of data missing in spore-print-color: 89.62\n"
     ]
    }
   ],
   "source": [
    "# Check for missing values\n",
    "print('Missing Values:', df.isna().sum().sum())\n",
    "\n",
    "# Find missing values by column\n",
    "print(df.isna().sum())\n",
    "print('-' * 80)\n",
    "\n",
    "# Get the percentage of missing data in each row\n",
    "for col, n in zip(df.isna().sum().index, df.isna().sum().values):\n",
    "  if n > 0:\n",
    "    print(f'Percentage of data missing in {col}: {round(n / len(df) * 100, 2)}')"
   ]
  },
  {
   "cell_type": "code",
   "execution_count": 6,
   "id": "4618afc8",
   "metadata": {
    "hidden": true
   },
   "outputs": [
    {
     "name": "stdout",
     "output_type": "stream",
     "text": [
      "<class 'pandas.core.frame.DataFrame'>\n",
      "Int64Index: 60923 entries, 0 to 61068\n",
      "Data columns (total 16 columns):\n",
      " #   Column                Non-Null Count  Dtype  \n",
      "---  ------                --------------  -----  \n",
      " 0   class                 60923 non-null  object \n",
      " 1   cap-diameter          60923 non-null  float64\n",
      " 2   cap-shape             60923 non-null  object \n",
      " 3   cap-surface           46803 non-null  object \n",
      " 4   cap-color             60923 non-null  object \n",
      " 5   does-bruise-or-bleed  60923 non-null  object \n",
      " 6   gill-attachment       51068 non-null  object \n",
      " 7   gill-spacing          35861 non-null  object \n",
      " 8   gill-color            60923 non-null  object \n",
      " 9   stem-height           60923 non-null  float64\n",
      " 10  stem-width            60923 non-null  float64\n",
      " 11  stem-color            60923 non-null  object \n",
      " 12  has-ring              60923 non-null  object \n",
      " 13  ring-type             58452 non-null  object \n",
      " 14  habitat               60923 non-null  object \n",
      " 15  season                60923 non-null  object \n",
      "dtypes: float64(3), object(13)\n",
      "memory usage: 7.9+ MB\n"
     ]
    }
   ],
   "source": [
    "# Drop the columns with more than 60% of the data missing.\n",
    "df.dropna(axis = 1, thresh = int(0.4*len(df)), inplace = True)\n",
    "df.info()"
   ]
  },
  {
   "cell_type": "code",
   "execution_count": 7,
   "id": "7aec824f",
   "metadata": {
    "hidden": true
   },
   "outputs": [
    {
     "name": "stdout",
     "output_type": "stream",
     "text": [
      "Missing Values: 0\n"
     ]
    }
   ],
   "source": [
    "# Before we impute, we will make a separate copy of the\n",
    "# DataFrame for machine learning.\n",
    "ml_df = df.copy()\n",
    "\n",
    "# The remaning missing values will be imputed with 'M'. A separate copy\n",
    "# of the data will be used for machine learning so the we don't risk data leakage.\n",
    "df.fillna('M', inplace = True)\n",
    "\n",
    "# Check to make sure missing values have been filled.\n",
    "print('Missing Values:', df.isna().sum().sum())"
   ]
  },
  {
   "cell_type": "markdown",
   "id": "be020008",
   "metadata": {
    "hidden": true
   },
   "source": [
    "> We chose to impute missing values with 'M' in the case where less than 80%, and more than 20% of the data was missing. We felt more than 80% of the values of an attribute being missing would not contribute much to our model. In the case of 20-80% of the data missing we feel that a label that indicates the data is missing may be beneficial to our model. We will revisit these assumptions in the event that we are not able to construct a model that scores well on this data."
   ]
  },
  {
   "cell_type": "markdown",
   "id": "5c524906",
   "metadata": {
    "heading_collapsed": true,
    "hidden": true
   },
   "source": [
    "## Inconsistent labels"
   ]
  },
  {
   "cell_type": "code",
   "execution_count": 8,
   "id": "f61a35f8",
   "metadata": {
    "hidden": true
   },
   "outputs": [
    {
     "name": "stdout",
     "output_type": "stream",
     "text": [
      "Column: class\n",
      "p    0.553847\n",
      "e    0.446153\n",
      "Name: class, dtype: float64\n",
      "\n",
      "Column: cap-shape\n",
      "x    0.442066\n",
      "f    0.220015\n",
      "s    0.117591\n",
      "b    0.093462\n",
      "o    0.054429\n",
      "p    0.042644\n",
      "c    0.029792\n",
      "Name: cap-shape, dtype: float64\n",
      "\n",
      "Column: cap-surface\n",
      "M    0.231768\n",
      "t    0.134334\n",
      "s    0.124419\n",
      "y    0.104082\n",
      "h    0.081644\n",
      "g    0.077508\n",
      "d    0.072748\n",
      "e    0.042414\n",
      "k    0.037802\n",
      "i    0.036522\n",
      "w    0.035290\n",
      "l    0.021470\n",
      "Name: cap-surface, dtype: float64\n",
      "\n",
      "Column: cap-color\n",
      "n    0.397305\n",
      "y    0.140193\n",
      "w    0.125552\n",
      "g    0.070778\n",
      "e    0.066231\n",
      "o    0.059961\n",
      "r    0.029201\n",
      "u    0.028052\n",
      "p    0.027953\n",
      "k    0.020994\n",
      "b    0.020189\n",
      "l    0.013591\n",
      "Name: cap-color, dtype: float64\n",
      "\n",
      "Column: does-bruise-or-bleed\n",
      "f    0.826174\n",
      "t    0.173826\n",
      "Name: does-bruise-or-bleed, dtype: float64\n",
      "\n",
      "Column: gill-attachment\n",
      "a    0.208411\n",
      "d    0.168196\n",
      "M    0.161762\n",
      "x    0.121678\n",
      "p    0.098501\n",
      "e    0.092707\n",
      "s    0.092707\n",
      "f    0.056038\n",
      "Name: gill-attachment, dtype: float64\n",
      "\n",
      "Column: gill-spacing\n",
      "M    0.411372\n",
      "c    0.405134\n",
      "d    0.127456\n",
      "f    0.056038\n",
      "Name: gill-spacing, dtype: float64\n",
      "\n",
      "Column: gill-color\n",
      "w    0.303531\n",
      "n    0.158315\n",
      "y    0.156673\n",
      "p    0.098206\n",
      "g    0.067594\n",
      "f    0.056038\n",
      "o    0.047749\n",
      "k    0.038984\n",
      "r    0.022963\n",
      "e    0.017497\n",
      "u    0.016792\n",
      "b    0.015659\n",
      "Name: gill-color, dtype: float64\n",
      "\n",
      "Column: stem-color\n",
      "w    0.376311\n",
      "n    0.296489\n",
      "y    0.129081\n",
      "g    0.043104\n",
      "o    0.035898\n",
      "e    0.033633\n",
      "u    0.024457\n",
      "p    0.016825\n",
      "f    0.015019\n",
      "k    0.013739\n",
      "r    0.008896\n",
      "l    0.003710\n",
      "b    0.002840\n",
      "Name: stem-color, dtype: float64\n",
      "\n",
      "Column: has-ring\n",
      "f    0.751046\n",
      "t    0.248954\n",
      "Name: has-ring, dtype: float64\n",
      "\n",
      "Column: ring-type\n",
      "f    0.791409\n",
      "M    0.040559\n",
      "e    0.039968\n",
      "z    0.034765\n",
      "l    0.023423\n",
      "r    0.022963\n",
      "p    0.020764\n",
      "g    0.020354\n",
      "m    0.005794\n",
      "Name: ring-type, dtype: float64\n",
      "\n",
      "Column: habitat\n",
      "d    0.723257\n",
      "g    0.130378\n",
      "l    0.052000\n",
      "m    0.047929\n",
      "h    0.032845\n",
      "p    0.005909\n",
      "w    0.005794\n",
      "u    0.001888\n",
      "Name: habitat, dtype: float64\n",
      "\n",
      "Column: season\n",
      "a    0.494739\n",
      "u    0.375064\n",
      "w    0.085895\n",
      "s    0.044302\n",
      "Name: season, dtype: float64\n",
      "\n"
     ]
    }
   ],
   "source": [
    "# Check for inconsistent labels\n",
    "cat_cols = df.select_dtypes(include = 'object')\n",
    "for col in cat_cols:\n",
    "  print('Column:', col)\n",
    "  print(df[col].value_counts(normalize = True))\n",
    "  print()"
   ]
  },
  {
   "cell_type": "markdown",
   "id": "43b225d0",
   "metadata": {
    "hidden": true
   },
   "source": [
    "> There do not appear to be any inconsistencies in our labels."
   ]
  },
  {
   "cell_type": "markdown",
   "id": "997b2caa",
   "metadata": {
    "heading_collapsed": true,
    "hidden": true
   },
   "source": [
    "## Outliers"
   ]
  },
  {
   "cell_type": "code",
   "execution_count": 9,
   "id": "59e5cd96",
   "metadata": {
    "hidden": true
   },
   "outputs": [
    {
     "data": {
      "text/html": [
       "<div>\n",
       "<style scoped>\n",
       "    .dataframe tbody tr th:only-of-type {\n",
       "        vertical-align: middle;\n",
       "    }\n",
       "\n",
       "    .dataframe tbody tr th {\n",
       "        vertical-align: top;\n",
       "    }\n",
       "\n",
       "    .dataframe thead th {\n",
       "        text-align: right;\n",
       "    }\n",
       "</style>\n",
       "<table border=\"1\" class=\"dataframe\">\n",
       "  <thead>\n",
       "    <tr style=\"text-align: right;\">\n",
       "      <th></th>\n",
       "      <th>cap-diameter</th>\n",
       "      <th>stem-height</th>\n",
       "      <th>stem-width</th>\n",
       "    </tr>\n",
       "  </thead>\n",
       "  <tbody>\n",
       "    <tr>\n",
       "      <th>count</th>\n",
       "      <td>60923.000000</td>\n",
       "      <td>60923.000000</td>\n",
       "      <td>60923.000000</td>\n",
       "    </tr>\n",
       "    <tr>\n",
       "      <th>mean</th>\n",
       "      <td>6.741957</td>\n",
       "      <td>6.597202</td>\n",
       "      <td>12.178484</td>\n",
       "    </tr>\n",
       "    <tr>\n",
       "      <th>std</th>\n",
       "      <td>5.268435</td>\n",
       "      <td>3.358757</td>\n",
       "      <td>10.030361</td>\n",
       "    </tr>\n",
       "    <tr>\n",
       "      <th>min</th>\n",
       "      <td>0.380000</td>\n",
       "      <td>0.000000</td>\n",
       "      <td>0.000000</td>\n",
       "    </tr>\n",
       "    <tr>\n",
       "      <th>25%</th>\n",
       "      <td>3.490000</td>\n",
       "      <td>4.650000</td>\n",
       "      <td>5.250000</td>\n",
       "    </tr>\n",
       "    <tr>\n",
       "      <th>50%</th>\n",
       "      <td>5.880000</td>\n",
       "      <td>5.960000</td>\n",
       "      <td>10.220000</td>\n",
       "    </tr>\n",
       "    <tr>\n",
       "      <th>75%</th>\n",
       "      <td>8.550000</td>\n",
       "      <td>7.750000</td>\n",
       "      <td>16.580000</td>\n",
       "    </tr>\n",
       "    <tr>\n",
       "      <th>max</th>\n",
       "      <td>62.340000</td>\n",
       "      <td>33.920000</td>\n",
       "      <td>103.910000</td>\n",
       "    </tr>\n",
       "  </tbody>\n",
       "</table>\n",
       "</div>"
      ],
      "text/plain": [
       "       cap-diameter   stem-height    stem-width\n",
       "count  60923.000000  60923.000000  60923.000000\n",
       "mean       6.741957      6.597202     12.178484\n",
       "std        5.268435      3.358757     10.030361\n",
       "min        0.380000      0.000000      0.000000\n",
       "25%        3.490000      4.650000      5.250000\n",
       "50%        5.880000      5.960000     10.220000\n",
       "75%        8.550000      7.750000     16.580000\n",
       "max       62.340000     33.920000    103.910000"
      ]
     },
     "execution_count": 9,
     "metadata": {},
     "output_type": "execute_result"
    }
   ],
   "source": [
    "# Get the descriptive stats of the numeric data\n",
    "df.describe()"
   ]
  },
  {
   "cell_type": "markdown",
   "id": "232cca3a",
   "metadata": {
    "hidden": true
   },
   "source": [
    "> There are values in 'stem-height' and 'stem-width' that are set to 0. We will investigate these data points more closely."
   ]
  },
  {
   "cell_type": "code",
   "execution_count": 10,
   "id": "65c51681",
   "metadata": {
    "hidden": true
   },
   "outputs": [
    {
     "data": {
      "text/html": [
       "<div>\n",
       "<style scoped>\n",
       "    .dataframe tbody tr th:only-of-type {\n",
       "        vertical-align: middle;\n",
       "    }\n",
       "\n",
       "    .dataframe tbody tr th {\n",
       "        vertical-align: top;\n",
       "    }\n",
       "\n",
       "    .dataframe thead th {\n",
       "        text-align: right;\n",
       "    }\n",
       "</style>\n",
       "<table border=\"1\" class=\"dataframe\">\n",
       "  <thead>\n",
       "    <tr style=\"text-align: right;\">\n",
       "      <th></th>\n",
       "      <th>class</th>\n",
       "      <th>cap-diameter</th>\n",
       "      <th>cap-shape</th>\n",
       "      <th>cap-surface</th>\n",
       "      <th>cap-color</th>\n",
       "      <th>does-bruise-or-bleed</th>\n",
       "      <th>gill-attachment</th>\n",
       "      <th>gill-spacing</th>\n",
       "      <th>gill-color</th>\n",
       "      <th>stem-height</th>\n",
       "      <th>stem-width</th>\n",
       "      <th>stem-color</th>\n",
       "      <th>has-ring</th>\n",
       "      <th>ring-type</th>\n",
       "      <th>habitat</th>\n",
       "      <th>season</th>\n",
       "    </tr>\n",
       "  </thead>\n",
       "  <tbody>\n",
       "    <tr>\n",
       "      <th>56480</th>\n",
       "      <td>p</td>\n",
       "      <td>2.48</td>\n",
       "      <td>o</td>\n",
       "      <td>t</td>\n",
       "      <td>n</td>\n",
       "      <td>f</td>\n",
       "      <td>M</td>\n",
       "      <td>c</td>\n",
       "      <td>w</td>\n",
       "      <td>0.0</td>\n",
       "      <td>0.0</td>\n",
       "      <td>f</td>\n",
       "      <td>f</td>\n",
       "      <td>f</td>\n",
       "      <td>d</td>\n",
       "      <td>u</td>\n",
       "    </tr>\n",
       "    <tr>\n",
       "      <th>56481</th>\n",
       "      <td>p</td>\n",
       "      <td>4.29</td>\n",
       "      <td>o</td>\n",
       "      <td>t</td>\n",
       "      <td>w</td>\n",
       "      <td>f</td>\n",
       "      <td>M</td>\n",
       "      <td>c</td>\n",
       "      <td>w</td>\n",
       "      <td>0.0</td>\n",
       "      <td>0.0</td>\n",
       "      <td>f</td>\n",
       "      <td>f</td>\n",
       "      <td>f</td>\n",
       "      <td>d</td>\n",
       "      <td>u</td>\n",
       "    </tr>\n",
       "    <tr>\n",
       "      <th>56482</th>\n",
       "      <td>p</td>\n",
       "      <td>4.29</td>\n",
       "      <td>o</td>\n",
       "      <td>t</td>\n",
       "      <td>n</td>\n",
       "      <td>f</td>\n",
       "      <td>M</td>\n",
       "      <td>c</td>\n",
       "      <td>w</td>\n",
       "      <td>0.0</td>\n",
       "      <td>0.0</td>\n",
       "      <td>f</td>\n",
       "      <td>f</td>\n",
       "      <td>f</td>\n",
       "      <td>d</td>\n",
       "      <td>u</td>\n",
       "    </tr>\n",
       "    <tr>\n",
       "      <th>56483</th>\n",
       "      <td>p</td>\n",
       "      <td>4.72</td>\n",
       "      <td>o</td>\n",
       "      <td>t</td>\n",
       "      <td>w</td>\n",
       "      <td>f</td>\n",
       "      <td>M</td>\n",
       "      <td>c</td>\n",
       "      <td>w</td>\n",
       "      <td>0.0</td>\n",
       "      <td>0.0</td>\n",
       "      <td>f</td>\n",
       "      <td>f</td>\n",
       "      <td>f</td>\n",
       "      <td>d</td>\n",
       "      <td>u</td>\n",
       "    </tr>\n",
       "    <tr>\n",
       "      <th>56484</th>\n",
       "      <td>p</td>\n",
       "      <td>4.66</td>\n",
       "      <td>o</td>\n",
       "      <td>t</td>\n",
       "      <td>w</td>\n",
       "      <td>f</td>\n",
       "      <td>M</td>\n",
       "      <td>c</td>\n",
       "      <td>w</td>\n",
       "      <td>0.0</td>\n",
       "      <td>0.0</td>\n",
       "      <td>f</td>\n",
       "      <td>f</td>\n",
       "      <td>f</td>\n",
       "      <td>d</td>\n",
       "      <td>a</td>\n",
       "    </tr>\n",
       "    <tr>\n",
       "      <th>...</th>\n",
       "      <td>...</td>\n",
       "      <td>...</td>\n",
       "      <td>...</td>\n",
       "      <td>...</td>\n",
       "      <td>...</td>\n",
       "      <td>...</td>\n",
       "      <td>...</td>\n",
       "      <td>...</td>\n",
       "      <td>...</td>\n",
       "      <td>...</td>\n",
       "      <td>...</td>\n",
       "      <td>...</td>\n",
       "      <td>...</td>\n",
       "      <td>...</td>\n",
       "      <td>...</td>\n",
       "      <td>...</td>\n",
       "    </tr>\n",
       "    <tr>\n",
       "      <th>58234</th>\n",
       "      <td>p</td>\n",
       "      <td>2.21</td>\n",
       "      <td>o</td>\n",
       "      <td>l</td>\n",
       "      <td>g</td>\n",
       "      <td>f</td>\n",
       "      <td>f</td>\n",
       "      <td>f</td>\n",
       "      <td>f</td>\n",
       "      <td>0.0</td>\n",
       "      <td>0.0</td>\n",
       "      <td>f</td>\n",
       "      <td>f</td>\n",
       "      <td>f</td>\n",
       "      <td>d</td>\n",
       "      <td>w</td>\n",
       "    </tr>\n",
       "    <tr>\n",
       "      <th>58235</th>\n",
       "      <td>p</td>\n",
       "      <td>3.34</td>\n",
       "      <td>o</td>\n",
       "      <td>l</td>\n",
       "      <td>g</td>\n",
       "      <td>f</td>\n",
       "      <td>f</td>\n",
       "      <td>f</td>\n",
       "      <td>f</td>\n",
       "      <td>0.0</td>\n",
       "      <td>0.0</td>\n",
       "      <td>f</td>\n",
       "      <td>f</td>\n",
       "      <td>f</td>\n",
       "      <td>d</td>\n",
       "      <td>w</td>\n",
       "    </tr>\n",
       "    <tr>\n",
       "      <th>58238</th>\n",
       "      <td>p</td>\n",
       "      <td>2.28</td>\n",
       "      <td>o</td>\n",
       "      <td>l</td>\n",
       "      <td>g</td>\n",
       "      <td>f</td>\n",
       "      <td>f</td>\n",
       "      <td>f</td>\n",
       "      <td>f</td>\n",
       "      <td>0.0</td>\n",
       "      <td>0.0</td>\n",
       "      <td>f</td>\n",
       "      <td>f</td>\n",
       "      <td>f</td>\n",
       "      <td>d</td>\n",
       "      <td>a</td>\n",
       "    </tr>\n",
       "    <tr>\n",
       "      <th>58240</th>\n",
       "      <td>p</td>\n",
       "      <td>2.54</td>\n",
       "      <td>o</td>\n",
       "      <td>l</td>\n",
       "      <td>g</td>\n",
       "      <td>f</td>\n",
       "      <td>f</td>\n",
       "      <td>f</td>\n",
       "      <td>f</td>\n",
       "      <td>0.0</td>\n",
       "      <td>0.0</td>\n",
       "      <td>f</td>\n",
       "      <td>f</td>\n",
       "      <td>f</td>\n",
       "      <td>d</td>\n",
       "      <td>u</td>\n",
       "    </tr>\n",
       "    <tr>\n",
       "      <th>58243</th>\n",
       "      <td>p</td>\n",
       "      <td>3.83</td>\n",
       "      <td>o</td>\n",
       "      <td>l</td>\n",
       "      <td>g</td>\n",
       "      <td>f</td>\n",
       "      <td>f</td>\n",
       "      <td>f</td>\n",
       "      <td>f</td>\n",
       "      <td>0.0</td>\n",
       "      <td>0.0</td>\n",
       "      <td>f</td>\n",
       "      <td>f</td>\n",
       "      <td>f</td>\n",
       "      <td>d</td>\n",
       "      <td>s</td>\n",
       "    </tr>\n",
       "  </tbody>\n",
       "</table>\n",
       "<p>915 rows × 16 columns</p>\n",
       "</div>"
      ],
      "text/plain": [
       "      class  cap-diameter cap-shape cap-surface cap-color  \\\n",
       "56480     p          2.48         o           t         n   \n",
       "56481     p          4.29         o           t         w   \n",
       "56482     p          4.29         o           t         n   \n",
       "56483     p          4.72         o           t         w   \n",
       "56484     p          4.66         o           t         w   \n",
       "...     ...           ...       ...         ...       ...   \n",
       "58234     p          2.21         o           l         g   \n",
       "58235     p          3.34         o           l         g   \n",
       "58238     p          2.28         o           l         g   \n",
       "58240     p          2.54         o           l         g   \n",
       "58243     p          3.83         o           l         g   \n",
       "\n",
       "      does-bruise-or-bleed gill-attachment gill-spacing gill-color  \\\n",
       "56480                    f               M            c          w   \n",
       "56481                    f               M            c          w   \n",
       "56482                    f               M            c          w   \n",
       "56483                    f               M            c          w   \n",
       "56484                    f               M            c          w   \n",
       "...                    ...             ...          ...        ...   \n",
       "58234                    f               f            f          f   \n",
       "58235                    f               f            f          f   \n",
       "58238                    f               f            f          f   \n",
       "58240                    f               f            f          f   \n",
       "58243                    f               f            f          f   \n",
       "\n",
       "       stem-height  stem-width stem-color has-ring ring-type habitat season  \n",
       "56480          0.0         0.0          f        f         f       d      u  \n",
       "56481          0.0         0.0          f        f         f       d      u  \n",
       "56482          0.0         0.0          f        f         f       d      u  \n",
       "56483          0.0         0.0          f        f         f       d      u  \n",
       "56484          0.0         0.0          f        f         f       d      a  \n",
       "...            ...         ...        ...      ...       ...     ...    ...  \n",
       "58234          0.0         0.0          f        f         f       d      w  \n",
       "58235          0.0         0.0          f        f         f       d      w  \n",
       "58238          0.0         0.0          f        f         f       d      a  \n",
       "58240          0.0         0.0          f        f         f       d      u  \n",
       "58243          0.0         0.0          f        f         f       d      s  \n",
       "\n",
       "[915 rows x 16 columns]"
      ]
     },
     "metadata": {},
     "output_type": "display_data"
    },
    {
     "name": "stdout",
     "output_type": "stream",
     "text": [
      "915\n",
      "915\n",
      "0\n",
      "0\n"
     ]
    }
   ],
   "source": [
    "# Find the rows with 'stem-heigh' equal to 0.\n",
    "display(df[df['stem-height'] == 0])\n",
    "\n",
    "# Find the number of entries in 'stem-height' and\n",
    "# 'stem-width' equal to 0\n",
    "print(len(df[df['stem-height'] == 0]))\n",
    "print(len(df[df['stem-width'] == 0]))\n",
    "\n",
    "# Find the number of rows where exactly one of 'stem-heigh'\n",
    "# and 'stem-width' is equal to 0\n",
    "print(len(df[(df['stem-height'] == 0) & (df['stem-width'] != 0)]))\n",
    "print(len(df[(df['stem-height'] != 0) & (df['stem-width'] == 0)]))"
   ]
  },
  {
   "cell_type": "markdown",
   "id": "78a86a3a",
   "metadata": {
    "hidden": true
   },
   "source": [
    "> Based on the above we assume that a 0 for stem-height and stem-width just means the mushroom under consideration doesn't have a stem."
   ]
  },
  {
   "cell_type": "code",
   "execution_count": 11,
   "id": "8a4880ac",
   "metadata": {
    "hidden": true
   },
   "outputs": [
    {
     "data": {
      "text/html": [
       "<div>\n",
       "<style scoped>\n",
       "    .dataframe tbody tr th:only-of-type {\n",
       "        vertical-align: middle;\n",
       "    }\n",
       "\n",
       "    .dataframe tbody tr th {\n",
       "        vertical-align: top;\n",
       "    }\n",
       "\n",
       "    .dataframe thead th {\n",
       "        text-align: right;\n",
       "    }\n",
       "</style>\n",
       "<table border=\"1\" class=\"dataframe\">\n",
       "  <thead>\n",
       "    <tr style=\"text-align: right;\">\n",
       "      <th></th>\n",
       "      <th>cap-diameter</th>\n",
       "      <th>stem-height</th>\n",
       "      <th>stem-width</th>\n",
       "    </tr>\n",
       "  </thead>\n",
       "  <tbody>\n",
       "    <tr>\n",
       "      <th>48361</th>\n",
       "      <td>13.80</td>\n",
       "      <td>17.93</td>\n",
       "      <td>70.21</td>\n",
       "    </tr>\n",
       "    <tr>\n",
       "      <th>48362</th>\n",
       "      <td>17.63</td>\n",
       "      <td>17.55</td>\n",
       "      <td>69.37</td>\n",
       "    </tr>\n",
       "    <tr>\n",
       "      <th>48363</th>\n",
       "      <td>22.40</td>\n",
       "      <td>15.59</td>\n",
       "      <td>69.47</td>\n",
       "    </tr>\n",
       "    <tr>\n",
       "      <th>48364</th>\n",
       "      <td>24.73</td>\n",
       "      <td>16.28</td>\n",
       "      <td>65.87</td>\n",
       "    </tr>\n",
       "    <tr>\n",
       "      <th>48365</th>\n",
       "      <td>22.83</td>\n",
       "      <td>16.90</td>\n",
       "      <td>70.92</td>\n",
       "    </tr>\n",
       "    <tr>\n",
       "      <th>...</th>\n",
       "      <td>...</td>\n",
       "      <td>...</td>\n",
       "      <td>...</td>\n",
       "    </tr>\n",
       "    <tr>\n",
       "      <th>55400</th>\n",
       "      <td>4.90</td>\n",
       "      <td>6.56</td>\n",
       "      <td>62.04</td>\n",
       "    </tr>\n",
       "    <tr>\n",
       "      <th>55404</th>\n",
       "      <td>5.78</td>\n",
       "      <td>7.42</td>\n",
       "      <td>73.28</td>\n",
       "    </tr>\n",
       "    <tr>\n",
       "      <th>55407</th>\n",
       "      <td>4.39</td>\n",
       "      <td>7.43</td>\n",
       "      <td>67.74</td>\n",
       "    </tr>\n",
       "    <tr>\n",
       "      <th>55412</th>\n",
       "      <td>5.32</td>\n",
       "      <td>8.56</td>\n",
       "      <td>61.74</td>\n",
       "    </tr>\n",
       "    <tr>\n",
       "      <th>58318</th>\n",
       "      <td>62.34</td>\n",
       "      <td>8.65</td>\n",
       "      <td>64.11</td>\n",
       "    </tr>\n",
       "  </tbody>\n",
       "</table>\n",
       "<p>361 rows × 3 columns</p>\n",
       "</div>"
      ],
      "text/plain": [
       "       cap-diameter  stem-height  stem-width\n",
       "48361         13.80        17.93       70.21\n",
       "48362         17.63        17.55       69.37\n",
       "48363         22.40        15.59       69.47\n",
       "48364         24.73        16.28       65.87\n",
       "48365         22.83        16.90       70.92\n",
       "...             ...          ...         ...\n",
       "55400          4.90         6.56       62.04\n",
       "55404          5.78         7.42       73.28\n",
       "55407          4.39         7.43       67.74\n",
       "55412          5.32         8.56       61.74\n",
       "58318         62.34         8.65       64.11\n",
       "\n",
       "[361 rows x 3 columns]"
      ]
     },
     "execution_count": 11,
     "metadata": {},
     "output_type": "execute_result"
    }
   ],
   "source": [
    "# Check the relatively large values\n",
    "df.loc[df['stem-width'] > 60, ['cap-diameter', 'stem-height', 'stem-width']]"
   ]
  },
  {
   "cell_type": "markdown",
   "id": "0c8eb7a1",
   "metadata": {
    "hidden": true
   },
   "source": [
    "> We would need to consult subject-matter expert to determine if any of these data points are unlikely. So we choose to not alter the numeric data."
   ]
  },
  {
   "cell_type": "markdown",
   "id": "de45227b",
   "metadata": {
    "heading_collapsed": true,
    "hidden": true
   },
   "source": [
    "## Data visualizations"
   ]
  },
  {
   "cell_type": "markdown",
   "id": "842125a5",
   "metadata": {
    "heading_collapsed": true,
    "hidden": true
   },
   "source": [
    "## Histograms"
   ]
  },
  {
   "cell_type": "code",
   "execution_count": 12,
   "id": "07935dac",
   "metadata": {
    "hidden": true
   },
   "outputs": [
    {
     "data": {
      "image/png": "[encoded data removed]",
      "text/plain": [
       "<Figure size 1000x1000 with 4 Axes>"
      ]
     },
     "metadata": {},
     "output_type": "display_data"
    }
   ],
   "source": [
    "# Make histograms for the numeric features\n",
    "df.hist(grid = False,\n",
    "        edgecolor = 'k',\n",
    "        figsize = (10, 10),\n",
    "        bins = 8);"
   ]
  },
  {
   "cell_type": "markdown",
   "id": "71eeeda7",
   "metadata": {
    "heading_collapsed": true,
    "hidden": true
   },
   "source": [
    "## Bar graphs"
   ]
  },
  {
   "cell_type": "code",
   "execution_count": 13,
   "id": "ea6d0f94",
   "metadata": {
    "hidden": true
   },
   "outputs": [
    {
     "data": {
      "image/png": "[encoded data removed]",
      "text/plain": [
       "<Figure size 800x500 with 1 Axes>"
      ]
     },
     "metadata": {},
     "output_type": "display_data"
    },
    {
     "name": "stdout",
     "output_type": "stream",
     "text": [
      "\n"
     ]
    },
    {
     "data": {
      "image/png": "[encoded data removed]",
      "text/plain": [
       "<Figure size 800x500 with 1 Axes>"
      ]
     },
     "metadata": {},
     "output_type": "display_data"
    },
    {
     "name": "stdout",
     "output_type": "stream",
     "text": [
      "\n"
     ]
    },
    {
     "data": {
      "image/png": "[encoded data removed]",
      "text/plain": [
       "<Figure size 800x500 with 1 Axes>"
      ]
     },
     "metadata": {},
     "output_type": "display_data"
    },
    {
     "name": "stdout",
     "output_type": "stream",
     "text": [
      "\n"
     ]
    },
    {
     "data": {
      "image/png": "[encoded data removed]",
      "text/plain": [
       "<Figure size 800x500 with 1 Axes>"
      ]
     },
     "metadata": {},
     "output_type": "display_data"
    },
    {
     "name": "stdout",
     "output_type": "stream",
     "text": [
      "\n"
     ]
    },
    {
     "data": {
      "image/png": "[encoded data removed]",
      "text/plain": [
       "<Figure size 800x500 with 1 Axes>"
      ]
     },
     "metadata": {},
     "output_type": "display_data"
    },
    {
     "name": "stdout",
     "output_type": "stream",
     "text": [
      "\n"
     ]
    },
    {
     "data": {
      "image/png": "[encoded data removed]",
      "text/plain": [
       "<Figure size 800x500 with 1 Axes>"
      ]
     },
     "metadata": {},
     "output_type": "display_data"
    },
    {
     "name": "stdout",
     "output_type": "stream",
     "text": [
      "\n"
     ]
    },
    {
     "data": {
      "image/png": "[encoded data removed]",
      "text/plain": [
       "<Figure size 800x500 with 1 Axes>"
      ]
     },
     "metadata": {},
     "output_type": "display_data"
    },
    {
     "name": "stdout",
     "output_type": "stream",
     "text": [
      "\n"
     ]
    },
    {
     "data": {
      "image/png": "[encoded data removed]",
      "text/plain": [
       "<Figure size 800x500 with 1 Axes>"
      ]
     },
     "metadata": {},
     "output_type": "display_data"
    },
    {
     "name": "stdout",
     "output_type": "stream",
     "text": [
      "\n"
     ]
    },
    {
     "data": {
      "image/png": "[encoded data removed]",
      "text/plain": [
       "<Figure size 800x500 with 1 Axes>"
      ]
     },
     "metadata": {},
     "output_type": "display_data"
    },
    {
     "name": "stdout",
     "output_type": "stream",
     "text": [
      "\n"
     ]
    },
    {
     "data": {
      "image/png": "[encoded data removed]",
      "text/plain": [
       "<Figure size 800x500 with 1 Axes>"
      ]
     },
     "metadata": {},
     "output_type": "display_data"
    },
    {
     "name": "stdout",
     "output_type": "stream",
     "text": [
      "\n"
     ]
    },
    {
     "data": {
      "image/png": "[encoded data removed]",
      "text/plain": [
       "<Figure size 800x500 with 1 Axes>"
      ]
     },
     "metadata": {},
     "output_type": "display_data"
    },
    {
     "name": "stdout",
     "output_type": "stream",
     "text": [
      "\n"
     ]
    },
    {
     "data": {
      "image/png": "[encoded data removed]",
      "text/plain": [
       "<Figure size 800x500 with 1 Axes>"
      ]
     },
     "metadata": {},
     "output_type": "display_data"
    },
    {
     "name": "stdout",
     "output_type": "stream",
     "text": [
      "\n"
     ]
    },
    {
     "data": {
      "image/png": "[encoded data removed]",
      "text/plain": [
       "<Figure size 800x500 with 1 Axes>"
      ]
     },
     "metadata": {},
     "output_type": "display_data"
    },
    {
     "name": "stdout",
     "output_type": "stream",
     "text": [
      "\n"
     ]
    }
   ],
   "source": [
    "# Plot the categorical data using bar graphs.\n",
    "for col in df.select_dtypes(include = 'object'):\n",
    "  plt.figure(figsize = (8, 5));\n",
    "  df[col].value_counts().plot.bar(title = col);\n",
    "  plt.show();\n",
    "  print()"
   ]
  },
  {
   "cell_type": "code",
   "execution_count": null,
   "id": "ffadd541",
   "metadata": {
    "hidden": true
   },
   "outputs": [],
   "source": []
  }
 ],
 "metadata": {
  "kernelspec": {
   "display_name": "Python (dojo-env)",
   "language": "python",
   "name": "dojo-env"
  },
  "language_info": {
   "codemirror_mode": {
    "name": "ipython",
    "version": 3
   },
   "file_extension": ".py",
   "mimetype": "text/x-python",
   "name": "python",
   "nbconvert_exporter": "python",
   "pygments_lexer": "ipython3",
   "version": "3.8.13"
  },
  "toc": {
   "base_numbering": 1,
   "nav_menu": {},
   "number_sections": false,
   "sideBar": true,
   "skip_h1_title": false,
   "title_cell": "Table of Contents",
   "title_sidebar": "Contents",
   "toc_cell": false,
   "toc_position": {},
   "toc_section_display": true,
   "toc_window_display": false
  }
 },
 "nbformat": 4,
 "nbformat_minor": 5
}
